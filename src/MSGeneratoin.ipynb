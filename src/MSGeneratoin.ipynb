{
 "cells": [
  {
   "cell_type": "code",
   "execution_count": null,
   "metadata": {},
   "outputs": [],
   "source": [
    "import numpy as np\n",
    "from matplotlib import pyplot as plt\n",
    "import tensorflow as tf\n",
    "import skimage.io\n",
    "from segmentation import segmentation\n",
    "import tensorflow.keras.backend as K\n",
    "import glob\n",
    "from segmentation import plotHist\n",
    "import pickle\n",
    "\n",
    "%matplotlib inline\n",
    "%load_ext autoreload\n",
    "%autoreload 2"
   ]
  },
  {
   "cell_type": "code",
   "execution_count": null,
   "metadata": {},
   "outputs": [],
   "source": [
    "H = 448\n",
    "W = 448\n",
    "N_CH = 3\n",
    "S_WEIGHT = 1e-6\n",
    "TV_WEIGHT = 1e-8\n",
    "ITERS = 1600\n",
    "EXP_INTERS = 1200\n",
    "\n",
    "SMALL_PATH = \"../data/small/\"\n",
    "LARGE_APTH = \"../data/large/\"\n",
    "FIGURE_PATH = \"../data/figures/\"\n",
    "\n",
    "ORIG_SIM3_IMG_PATH = SMALL_PATH + \"sim3.png\"\n",
    "plt.rcParams.update({'font.size':16})\n",
    "PICKLE_PATH = \"../data/figures/regen_imgs.p\"\n",
    "OUT_DIR = \"../data/result/\"\n",
    "CLEANED_DIR = OUT_DIR + \"cleaned/\"\n",
    "HIST_ORIG_DIR = OUT_DIR + \"hist_ori/\"\n",
    "HIST_ORIG_RES = OUT_DIR + \"hist_res/\"\n",
    "\n",
    "SAMPLE_FN = FIGURE_PATH + \"sim_gen.png\"\n",
    "num_for_each = 3\n",
    "\n",
    "sim_path1 = \"sim1.png\"\n",
    "sim_path2 = \"sim2.png\"\n",
    "sim_path3 = \"sim3.png\"\n",
    "copper_path1 = \"300.3.png\"\n",
    "copper_path2 = \"300.9.png\"\n",
    "copper_path3 = \"600.3.png\"\n",
    "copper_path4 = \"600.9.png\"\n",
    "al_path1 = \"200.3.png\"\n",
    "al_path2 = \"600.3_Al.png\"\n",
    "\n",
    "images_for_gen = []\n",
    "images_for_gen += [sim_path1]\n",
    "images_for_gen += [sim_path2]\n",
    "images_for_gen += [sim_path3]\n",
    "images_for_gen += [copper_path1]\n",
    "images_for_gen += [copper_path2]\n",
    "images_for_gen += [copper_path3]\n",
    "images_for_gen += [copper_path4] \n",
    "images_for_gen += [al_path1]\n",
    "images_for_gen += [al_path2]\n",
    "base_names = images_for_gen.copy()\n",
    "result_images = [OUT_DIR + p for p in images_for_gen]\n",
    "images_for_gen = [SMALL_PATH + p for p in images_for_gen]\n",
    "images_for_compare = images_for_gen.copy()\n",
    "images_for_gen *= num_for_each\n",
    "\n",
    "gen_titles = [\"Simulation\", \"Simulation\", \"Simulation\", \"Copper (300, 3)\", \"Copper (300, 9)\", \"Copper (600, 3)\", \"Copper (600, 9)\", \"Aluminium (200, 3)\", \"Aluminium (600, 3)\"]\n",
    "\n",
    "def readImages(filenames):\n",
    "    from skimage.io import imread\n",
    "    imgs = []\n",
    "    for file in filenames:\n",
    "        img = imread(file)\n",
    "        imgs.append(img)\n",
    "    return imgs\n"
   ]
  },
  {
   "cell_type": "code",
   "execution_count": null,
   "metadata": {},
   "outputs": [],
   "source": [
    "randimg = np.random.uniform(0, 255, (W, H, N_CH)).astype(np.uint8)\n",
    "skimage.io.imwsave(\"../data/figures/rand_img.png\", randimg)"
   ]
  },
  {
   "cell_type": "code",
   "execution_count": null,
   "metadata": {},
   "outputs": [],
   "source": [
    "from TextureSynthesistf2 import generateImageFromStyle\n",
    "gen, loss, imgs = generateImageFromStyle(H, W, N_CH, S_WEIGHT, TV_WEIGHT, style_path=ORIG_SIM3_IMG_PATH, iters=ITERS, get_mid_res=True)"
   ]
  },
  {
   "cell_type": "code",
   "execution_count": null,
   "metadata": {},
   "outputs": [],
   "source": [
    "fig = plt.figure(figsize=(36, 5))\n",
    "fig.set_dpi(300)\n",
    "counter = 1\n",
    "for i in range(len(loss)):\n",
    "    fig.add_subplot(1, int(ITERS / 200) + 1, counter)\n",
    "    plt.axis('off')\n",
    "    buf = \"n={:d}, loss={:.2f}\"\n",
    "    plt.title(buf.format(i * 200, loss[i].numpy()))\n",
    "    plt.imshow(imgs[i])\n",
    "    counter+=1\n",
    "\n",
    "plt.savefig(FIGURE_PATH + 'iters_adam.eps', transparent=True, bbox_inches='tight', pad_inches=0)\n",
    "plt.show()"
   ]
  },
  {
   "cell_type": "code",
   "execution_count": null,
   "metadata": {},
   "outputs": [],
   "source": [
    "from TextureSynthesis import generateImageFromStyle\n",
    "gen_2, loss_2, imgs_2 = generateImageFromStyle(H, W, N_CH, S_WEIGHT, TV_WEIGHT, style_path=ORIG_SIM3_IMG_PATH, iters=ITERS, get_mid_res=True)\n",
    "skimage.io.imsave(SAMPLE_FN, gen_2)"
   ]
  },
  {
   "cell_type": "code",
   "execution_count": null,
   "metadata": {},
   "outputs": [],
   "source": [
    "fig = plt.figure(figsize=(36, 5))\n",
    "fig.set_dpi(300)\n",
    "counter = 1\n",
    "for i in range(len(loss_2)):\n",
    "    fig.add_subplot(1, int(ITERS / 200) + 1, counter)\n",
    "    plt.axis('off')\n",
    "    buf = \"n={:d}, loss={:.2f}\"\n",
    "    plt.title(buf.format(i * 200, loss_2[i]))\n",
    "    plt.imshow(imgs_2[i])\n",
    "    counter+=1\n",
    "\n",
    "plt.savefig(FIGURE_PATH + '/iters_lbfgsb.eps', transparent=True, bbox_inches='tight', pad_inches=0)\n",
    "plt.show()"
   ]
  },
  {
   "cell_type": "code",
   "execution_count": null,
   "metadata": {},
   "outputs": [],
   "source": [
    "cleaned, mid_res, __ = segmentation(SAMPLE_FN, get_mid_res=True)\n",
    "titles = [\"Generated Microstructure\", \"Gradient Magnitude\", \"Thresholding\", \"Skeletonization\", \"Overlay Visualization\"]\n",
    "fig = plt.figure(figsize=(23, 5))\n",
    "fig.set_dpi(300)\n",
    "counter = 1\n",
    "for i in range(len(mid_res)):\n",
    "    fig.add_subplot(1, len(mid_res), counter)\n",
    "    plt.axis('off')\n",
    "    plt.title(titles[i])\n",
    "    plt.imshow(mid_res[i], cmap=None)\n",
    "    counter+=1\n",
    "\n",
    "plt.savefig(FIGURE_PATH + 'seg.eps', transparent=True, bbox_inches='tight', pad_inches=0)\n",
    "plt.show()"
   ]
  },
  {
   "cell_type": "code",
   "execution_count": null,
   "metadata": {},
   "outputs": [],
   "source": [
    "from TextureSynthesis import generateMultiImagesFromStyle\n",
    "generated_imgs = generateMultiImagesFromStyle(images_for_gen, H=H, W=W, C=N_CH, S_weight=S_WEIGHT, V_weight=TV_WEIGHT, iters=EXP_INTERS)\n",
    "pickle.dump(generated_imgs, open(PICKLE_PATH, \"wb\" ) )\n"
   ]
  },
  {
   "cell_type": "code",
   "execution_count": null,
   "metadata": {},
   "outputs": [],
   "source": [
    "generated_imgs = pickle.load( open(PICKLE_PATH, \"rb\" ) )\n",
    "orig_imgs = readImages(images_for_compare)\n",
    "images2plot =  orig_imgs + generated_imgs\n",
    "\n",
    "fig = plt.figure(figsize=(40, 18))\n",
    "fig.set_dpi(300)\n",
    "counter = 1\n",
    "for i in range(len(images2plot)):\n",
    "    fig.add_subplot(4, int(len(images2plot) / 4), counter)\n",
    "    if counter == 1:\n",
    "        plt.text(-60,200, \"Original\", size=18, rotation=\"vertical\", va=\"center\")\n",
    "    if counter == int(len(images2plot) / 4) + 1:\n",
    "        plt.text(-60,200, \"Generated\", size=18, rotation=\"vertical\", va=\"center\")\n",
    "    if i < len(gen_titles):\n",
    "        plt.title(gen_titles[i])\n",
    "    plt.axis('off')\n",
    "    plt.imshow(images2plot[i], cmap=None)\n",
    "    counter+=1\n",
    "\n",
    "plt.savefig(FIGURE_PATH + 'F5.pdf', transparent=True, bbox_inches='tight', pad_inches=0)\n",
    "plt.show()"
   ]
  },
  {
   "cell_type": "code",
   "execution_count": null,
   "metadata": {},
   "outputs": [],
   "source": [
    "from TextureSynthesis import generateMultiImagesFromStyle\n",
    "generated = generateMultiImagesFromStyle(images_for_compare, H=H, W=W, C=N_CH, S_weight=S_WEIGHT, V_weight=TV_WEIGHT * 5, iters=EXP_INTERS, output_dir=OUT_DIR)"
   ]
  },
  {
   "cell_type": "code",
   "execution_count": null,
   "metadata": {},
   "outputs": [],
   "source": [
    "filenames = glob.glob(OUT_DIR + \"*.png\")\n",
    "filenames_str = \" \".join(filenames)\n",
    "!python segmentation.py -i {filenames_str} -o {CLEANED_DIR}"
   ]
  },
  {
   "cell_type": "code",
   "execution_count": null,
   "metadata": {},
   "outputs": [],
   "source": [
    "vis_orig = []\n",
    "vis_res = []\n",
    "\n",
    "fig = plt.figure(figsize=(60, 5))\n",
    "fig.set_dpi(300)\n",
    "counter = 1\n",
    "for fn in base_names:\n",
    "    fig.add_subplot(1, len(base_names), counter)\n",
    "    if counter == 1:\n",
    "        plt.xlabel(\"Grain size\")\n",
    "        plt.ylabel(\"Density\")\n",
    "        # plt.text(-1800, 0.075, \"Original\", rotation=\"vertical\", size=18, va=\"center\")\n",
    "    plt.title(gen_titles[counter - 1])\n",
    "    cleaned, mid_res, hist = segmentation(SMALL_PATH + fn, get_mid_res=True)\n",
    "    vis_orig.append(mid_res[4])\n",
    "    plotHist(hist[0], hist[1], True)\n",
    "    cleaned, mid_res, hist = segmentation(OUT_DIR + fn, get_mid_res=True)\n",
    "    plotHist(hist[0], hist[1], False)\n",
    "    vis_res.append(mid_res[4])\n",
    "    if counter==1:\n",
    "        plt.legend([\"Orignal\", \"Generated\"])\n",
    "    counter+=1\n",
    "\n",
    "plt.savefig('../data/figures/hist.eps', transparent=True, bbox_inches='tight', pad_inches=0)\n",
    "plt.show()"
   ]
  },
  {
   "cell_type": "code",
   "execution_count": null,
   "metadata": {},
   "outputs": [],
   "source": [
    "fig = plt.figure(figsize=(36, 8))\n",
    "fig.set_dpi(300)\n",
    "counter = 1\n",
    "for i in range(len(vis_orig)):\n",
    "    fig.add_subplot(2, len(vis_orig), counter)\n",
    "    if i == 0:\n",
    "        plt.text(-60, 200, \"Original\", size=18, rotation=\"vertical\", va=\"center\")\n",
    "    plt.axis('off')\n",
    "    plt.title(gen_titles[i])\n",
    "    plt.imshow(vis_orig[i], cmap=None)\n",
    "    counter+=1\n",
    "\n",
    "for i in range(len(vis_res)):\n",
    "    fig.add_subplot(2, len(vis_orig), counter)\n",
    "    plt.axis('off')\n",
    "    plt.imshow(vis_res[i], cmap=None)\n",
    "    if i == 0:\n",
    "        plt.text(-60, 200, \"Generated\", size=18, rotation=\"vertical\", va=\"center\")\n",
    "    counter+=1\n",
    "plt.savefig('../data/figures/seg_vis.eps', transparent=True, bbox_inches='tight', pad_inches=0)\n",
    "plt.show()"
   ]
  }
 ],
 "metadata": {
  "kernelspec": {
   "display_name": "Python 3.7.7 64-bit ('tfone': conda)",
   "name": "python377jvsc74a57bd09cf226e8a6a3326cba5b5aacde4b023fe20ff64978884a1955b4898467b89709"
  },
  "language_info": {
   "codemirror_mode": {
    "name": "ipython",
    "version": 3
   },
   "file_extension": ".py",
   "mimetype": "text/x-python",
   "name": "python",
   "nbconvert_exporter": "python",
   "pygments_lexer": "ipython3",
   "version": "3.7.7"
  },
  "metadata": {
   "interpreter": {
    "hash": "bf5784864214a2e13ae42d90a75b0ee02e1b014fccc709835df525511ef9841a"
   }
  },
  "orig_nbformat": 2
 },
 "nbformat": 4,
 "nbformat_minor": 2
}
